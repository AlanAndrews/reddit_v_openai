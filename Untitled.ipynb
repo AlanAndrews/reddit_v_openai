{
 "cells": [
  {
   "cell_type": "markdown",
   "id": "3b7feb1f-033a-4d74-b8d4-1e62851ec9ee",
   "metadata": {},
   "source": [
    "# Project 3 code"
   ]
  },
  {
   "cell_type": "code",
   "execution_count": 27,
   "id": "b37ea015-4800-475d-bfa3-e1345b4d11e9",
   "metadata": {},
   "outputs": [],
   "source": [
    "import praw\n",
    "import pandas as pd\n",
    "import os\n",
    "import openai\n",
    "openai.api_key = os.getenv(\"OPENAI_API_KEY\")\n",
    "openai.Model.list()"
   ]
  },
  {
   "cell_type": "code",
   "execution_count": 7,
   "id": "e35c610d-827b-43bd-9d93-b4ef76bbc104",
   "metadata": {
    "tags": []
   },
   "outputs": [
    {
     "name": "stderr",
     "output_type": "stream",
     "text": [
      "Version 7.7.0 of praw is outdated. Version 7.7.1 was released Tuesday July 11, 2023.\n"
     ]
    }
   ],
   "source": [
    "reddit = praw.Reddit()"
   ]
  },
  {
   "cell_type": "code",
   "execution_count": 8,
   "id": "584aef02-8322-4c65-ad10-c2fd6854ba21",
   "metadata": {},
   "outputs": [
    {
     "name": "stdout",
     "output_type": "stream",
     "text": [
      "True\n"
     ]
    }
   ],
   "source": [
    "print(reddit.read_only)"
   ]
  },
  {
   "cell_type": "code",
   "execution_count": 9,
   "id": "2f3d0c95-f346-40c6-815b-30aec2ae1b19",
   "metadata": {},
   "outputs": [
    {
     "name": "stdout",
     "output_type": "stream",
     "text": [
      "test\n",
      "𝕥𝕖𝕤𝕥 𝔱𝔢𝔰𝔱 𝓉ℯ𝓈𝖙 ⓣⓔⓢⓣ 🅣🅔🅢🅣\n",
      "Test\n",
      "BigQuery's user-friendly SQL: Elevating analytics, data quality, and security\n",
      "title for a test\n",
      "Photorealistic 3D Tiles now in Preview with updated daily quotas\n",
      "Test dog\n"
     ]
    }
   ],
   "source": [
    "# testing. copied from documentation\n",
    "for submission in reddit.subreddit(\"test\").hot(limit=10):\n",
    "    if not submission.over_18:\n",
    "        print(submission.title)"
   ]
  },
  {
   "cell_type": "code",
   "execution_count": 16,
   "id": "42044d73-074e-4fe6-aa22-940fe4763bb6",
   "metadata": {
    "tags": []
   },
   "outputs": [
    {
     "name": "stdout",
     "output_type": "stream",
     "text": [
      "redditdev\n"
     ]
    }
   ],
   "source": [
    "# testing. copied from documentation\n",
    "\n",
    "# assume you have a praw.Reddit instance bound to variable `reddit`\n",
    "subreddit = reddit.subreddit(\"redditdev\")\n",
    "\n",
    "print(subreddit.display_name)\n",
    "# Output: redditdev\n",
    "print(subreddit.title)\n",
    "# Output: reddit development\n",
    "print(subreddit.description)\n",
    "# Output: a subreddit for discussion of ..."
   ]
  },
  {
   "cell_type": "code",
   "execution_count": 6,
   "id": "d167bdb3-2374-4b3d-8510-02a4ba7b1a43",
   "metadata": {},
   "outputs": [],
   "source": [
    "posts = reddit.subreddit(\"ask\").hot(limit=1000)"
   ]
  },
  {
   "cell_type": "code",
   "execution_count": 7,
   "id": "0220fbc3-b674-4c7b-8462-e1a91657df79",
   "metadata": {},
   "outputs": [
    {
     "data": {
      "text/plain": [
       "praw.models.listing.generator.ListingGenerator"
      ]
     },
     "execution_count": 7,
     "metadata": {},
     "output_type": "execute_result"
    }
   ],
   "source": [
    "type(posts)"
   ]
  },
  {
   "cell_type": "code",
   "execution_count": 10,
   "id": "ad216768-12b9-49f3-ad54-fd71e42d5162",
   "metadata": {},
   "outputs": [],
   "source": [
    "posts = reddit.subreddit(\"ask\").top(limit=999)\n",
    "\n",
    "posts_list = []\n",
    "\n",
    "for post in posts:\n",
    "    if not post.over_18:\n",
    "        post.comments.replace_more(limit=0)\n",
    "        highest_ups = -1\n",
    "        for comment in post.comments:\n",
    "            if comment.ups > highest_ups:\n",
    "                best_comment = comment.body\n",
    "                highest_ups = comment.ups\n",
    "            \n",
    "        posts_list.append(\n",
    "        {'title' : post.title,\n",
    "         'selftext' : post.selftext,\n",
    "         'subreddit' : post.subreddit,\n",
    "         'comments' : post.comments,\n",
    "         'created_utc' : post.created_utc,\n",
    "         'top_comment' : best_comment,\n",
    "         'comment_upvotes' : highest_ups})\n"
   ]
  },
  {
   "cell_type": "code",
   "execution_count": 3,
   "id": "00f5be89-a876-4613-8ab8-4eeab333f21a",
   "metadata": {},
   "outputs": [
    {
     "data": {
      "text/plain": [
       "927"
      ]
     },
     "execution_count": 3,
     "metadata": {},
     "output_type": "execute_result"
    }
   ],
   "source": [
    "len(posts_list)"
   ]
  },
  {
   "cell_type": "code",
   "execution_count": 37,
   "id": "057710c3-3968-4552-b998-da2f8b5b73b9",
   "metadata": {},
   "outputs": [
    {
     "name": "stdout",
     "output_type": "stream",
     "text": [
      "Stored 'posts_list' (list)\n"
     ]
    }
   ],
   "source": [
    "%store posts_list"
   ]
  },
  {
   "cell_type": "code",
   "execution_count": 1,
   "id": "2f0f3b58-c35b-4a4d-88ac-d17e60da2cd8",
   "metadata": {
    "tags": []
   },
   "outputs": [
    {
     "name": "stdout",
     "output_type": "stream",
     "text": [
      "Stored variables and their in-db values:\n",
      "posts_list             -> [{'title': 'As a non-smoker, does every smoker sme\n"
     ]
    }
   ],
   "source": [
    "%store"
   ]
  },
  {
   "cell_type": "code",
   "execution_count": 2,
   "id": "e8eb30dd-c718-4159-8706-c408c3846ed0",
   "metadata": {},
   "outputs": [],
   "source": [
    "%store -r"
   ]
  },
  {
   "cell_type": "code",
   "execution_count": 36,
   "id": "ce6f78cb-4c73-49bb-a1e0-390d682c6aa8",
   "metadata": {},
   "outputs": [],
   "source": [
    "test_list = posts_list[0:5]"
   ]
  },
  {
   "cell_type": "code",
   "execution_count": null,
   "id": "ac3a8bbd-62f8-4773-8fbd-520eaa1e3767",
   "metadata": {},
   "outputs": [],
   "source": [
    "with open('test_list.txt', 'w') as f:\n",
    "    for line in lines:\n",
    "        f.write(f\"{line}\\n\")"
   ]
  },
  {
   "cell_type": "code",
   "execution_count": null,
   "id": "a66e42b8-1d03-4564-8d9b-80e9b5279f55",
   "metadata": {},
   "outputs": [],
   "source": []
  },
  {
   "cell_type": "code",
   "execution_count": null,
   "id": "74322ae4-f936-45e1-9784-887b49ea691b",
   "metadata": {},
   "outputs": [],
   "source": []
  },
  {
   "cell_type": "code",
   "execution_count": 17,
   "id": "7b1eaffd-f33e-45e2-832b-b5b34e26a7f6",
   "metadata": {},
   "outputs": [
    {
     "name": "stdout",
     "output_type": "stream",
     "text": [
      "askreddit\n"
     ]
    }
   ],
   "source": [
    "subreddit = reddit.subreddit(\"askreddit\")\n",
    "print(subreddit.display_name)"
   ]
  },
  {
   "cell_type": "code",
   "execution_count": 11,
   "id": "ec636d35-c637-4e5c-a3d8-7d52d44a4d44",
   "metadata": {},
   "outputs": [],
   "source": [
    "subs_list = ['askreddit', 'askscience', 'askhistorians', 'ask_politics', 'askhistorians']\n",
    "test_subs_list = ['askuk', 'askstatistics', 'askscitech']"
   ]
  },
  {
   "cell_type": "code",
   "execution_count": 13,
   "id": "3d111183-fe6f-46af-99bd-070143d5ca68",
   "metadata": {},
   "outputs": [],
   "source": [
    "def test_sub_looper(subs):\n",
    "    for sub in subs:\n",
    "        sub_deets = reddit.subreddit(sub)\n",
    "        print(sub_deets.display_name)# Output: redditdev\n",
    "        print(sub_deets.title)\n",
    "        # Output: reddit development\n",
    "        print(sub_deets.description)\n",
    "        # Output: a subreddit for discussion of ..."
   ]
  },
  {
   "cell_type": "code",
   "execution_count": 14,
   "id": "7f0b0c17-b1cf-4174-8646-4a7bbf6043e4",
   "metadata": {
    "collapsed": true,
    "jupyter": {
     "outputs_hidden": true
    },
    "tags": []
   },
   "outputs": [
    {
     "name": "stdout",
     "output_type": "stream",
     "text": [
      "askreddit\n",
      "Ask Reddit...\n",
      "###### [ [ SERIOUS ] ](http://www.reddit.com/r/askreddit/submit?selftext=true&title=%5BSerious%5D)\n",
      "\n",
      "\n",
      "##### [Rules](https://www.reddit.com/r/AskReddit/wiki/index#wiki_rules):\n",
      "1. You must post a clear and direct question in the title. The title may contain two, short, necessary context sentences.\n",
      "No text is allowed in the textbox. Your thoughts/responses to the question can go in the comments section. [more >>](https://www.reddit.com/r/AskReddit/wiki/index#wiki_-rule_1-)\n",
      "\n",
      "2. Any post asking for advice should be generic and not specific to your situation alone. [more >>](https://www.reddit.com/r/AskReddit/wiki/index#wiki_-rule_2-)\n",
      "\n",
      "3. AskReddit is for open-ended discussion questions. [more >>](https://www.reddit.com/r/AskReddit/wiki/index#wiki_-rule_3-)\n",
      "\n",
      "4. Posting, or seeking, any identifying personal information, real or fake, will result in a ban without a prior warning. [more >>](https://www.reddit.com/r/AskReddit/wiki/index#wiki_-rule_4-)\n",
      "\n",
      "5. AskReddit is not your soapbox, personal army, or advertising platform. [more >>](https://www.reddit.com/r/AskReddit/wiki/index#wiki_-rule_5-)\n",
      "\n",
      "6. [Serious] tagged posts are off-limits to jokes or irrelevant replies. [more >>](https://www.reddit.com/r/AskReddit/wiki/index#wiki_-rule_6-)\n",
      "\n",
      "7. Soliciting money, goods, services, or favours is not allowed. [more >>](https://www.reddit.com/r/AskReddit/wiki/index#wiki_-rule_7-)\n",
      "\n",
      "8. Mods reserve the right to remove content or restrict users' posting privileges as necessary if it is deemed detrimental to the subreddit or to the experience of others. [more >>](https://www.reddit.com/r/AskReddit/wiki/index#wiki_-rule_8-)\n",
      "\n",
      "9. Comment replies consisting solely of images will be removed. [more >>](https://www.reddit.com/r/AskReddit/wiki/index#wiki_-rule_9-)\n",
      "\n",
      "10. Do not post harmful misinformation. [more >>](https://www.reddit.com/r/AskReddit/wiki/index/#wiki_-rule_10-)\n",
      "\n",
      "11. Spam, machine-generated content, and karma farming are not permitted. [more >>](https://www.reddit.com/r/AskReddit/wiki/index/#wiki_-rule_11-)\n",
      "\n",
      "##### If you think your post has disappeared, see spam or an inappropriate post, please do not hesitate to [contact the mods](https://www.reddit.com/message/compose?to=%2Fr%2FAskReddit), we're happy to help.\n",
      "\n",
      "---\n",
      "\n",
      "#### Tags to use:\n",
      "\n",
      "> ## [[Serious]](https://www.reddit.com/r/AskReddit/wiki/index#wiki_-rule_6-)\n",
      "\n",
      "### Use a **[Serious]** post tag to designate your post as a serious, on-topic-only thread.\n",
      "\n",
      "-\n",
      "\n",
      "#### Filter posts by subject:\n",
      "\n",
      "[Mod posts](http://ud.reddit.com/r/AskReddit/#ud)\n",
      "[Serious posts](https://www.reddit.com/r/AskReddit/search/?q=flair%3Aserious&sort=new&restrict_sr=on&t=all)\n",
      "[Megathread](http://bu.reddit.com/r/AskReddit/#bu)\n",
      "[Breaking news](http://nr.reddit.com/r/AskReddit/#nr)\n",
      "[Unfilter](/r/AskReddit)\n",
      "\n",
      "\n",
      "-\n",
      "\n",
      "### Please use spoiler tags to hide spoilers. `>!insert spoiler here!<`\n",
      "\n",
      "-\n",
      "\n",
      "#### Other subreddits you might like:\n",
      "some|header\n",
      ":---|:---\n",
      "[Ask Others](https://www.reddit.com/r/AskReddit/wiki/sidebarsubs#wiki_ask_others)|[Self & Others](https://www.reddit.com/r/AskReddit/wiki/sidebarsubs#wiki_self_.26amp.3B_others)\n",
      "[Find a subreddit](https://www.reddit.com/r/AskReddit/wiki/sidebarsubs#wiki_find_a_subreddit)|[Learn something](https://www.reddit.com/r/AskReddit/wiki/sidebarsubs#wiki_learn_something)\n",
      "[Meta Subs](https://www.reddit.com/r/AskReddit/wiki/sidebarsubs#wiki_meta)|[What is this ___](https://www.reddit.com/r/AskReddit/wiki/sidebarsubs#wiki_what_is_this______)\n",
      "[AskReddit Offshoots](https://www.reddit.com/r/AskReddit/wiki/sidebarsubs#wiki_askreddit_offshoots)|[Offers & Assistance](https://www.reddit.com/r/AskReddit/wiki/sidebarsubs#wiki_offers_.26amp.3B_assistance)\n",
      "\n",
      "\n",
      "-\n",
      "\n",
      "### Ever read the reddiquette? [Take a peek!](/wiki/reddiquette)\n",
      "\n",
      "[](#/RES_SR_Config/NightModeCompatible)\n",
      "askscience\n",
      "AskScience: Got Questions? Get Answers.\n",
      "### Please read our [**guidelines**](http://goo.gl/NZf5gP) and [**FAQ**](http://goo.gl/hfiJiJ) before posting\n",
      "\n",
      "* **Answer questions** with accurate, in-depth explanations, [including **peer-reviewed sources** where possible](/r/askscience/wiki/sources)\n",
      "* **Upvote** on-topic answers supported by reputable sources and scientific research\n",
      "* **Downvote** anecdotes, speculation, and jokes\n",
      "* **Report** comments that do not meet our [**guidelines**](http://goo.gl/NZf5gP), including [medical advice](http://goo.gl/UAVhTJ)\n",
      "* **Be civil:** [Remember the human](http://redd.it/1ytp7q) and follow [Reddiquette](http://www.reddit.com/wiki/reddiquette)\n",
      "\n",
      "\n",
      "\n",
      "###Features\n",
      "\n",
      "* [**Book List**](/r/askscience/wiki/booklist)\n",
      "* [**Weekly Features**](http://goo.gl/chKW86): Archives of AskAnything Wednesday, FAQ Fridays, and more!\n",
      "* [**FAQ**](http://goo.gl/hfiJiJ): In-depth answers to many popular questions\n",
      "* [**New**](https://www.reddit.com/r/askscience/new/) and [**gilded**](https://www.reddit.com/r/askscience/comments/gilded/) posts\n",
      "* **/r/AskScienceDiscussion**: For open-ended and hypothetical questions \n",
      "\n",
      "### Filter by Field   \n",
      "\n",
      "Title|Description\n",
      ":--|--:\n",
      "[Physics](/r/askscience/search?q=flair%3A%27Physics%27&sort=new&restrict_sr=on)|Theoretical Physics, Experimental Physics, High-energy Physics, Solid-State Physics, Fluid Dynamics, Relativity, Quantum Physics, Plasma Physics  \n",
      "[Mathematics](/r/askscience/search?q=flair%3A%27Mathematics%27&sort=new&restrict_sr=on)|Mathematics, Statistics, Number Theory, Calculus, Algebra\n",
      "[Astronomy](/r/askscience/search?q=flair%3A%27Astronomy%27&sort=new&restrict_sr=on)|Astronomy, Astrophysics, Cosmology, Planetary Formation  \n",
      "[Computing](/r/askscience/search?q=flair%3A%27Computing%27&sort=new&restrict_sr=on)|Computing, Artificial Intelligence, Machine Learning, Computability \n",
      "[Earth and Planetary Sciences](/r/askscience/search?q=flair%3A%27planetary%2Bsci.%27+OR+flair%3A%27earth%2Bsciences%27&sort=new&restrict_sr=on)|Earth Science, Atmospheric Science, Oceanography, Geology  \n",
      "[Engineering](/r/askscience/search?q=flair%3A%27Engineering%27&sort=new&restrict_sr=on)|Mechanical Engineering, Electrical Engineering, Structural Engineering, Computer Engineering, Aerospace Engineering\n",
      "[Chemistry](/r/askscience/search?q=flair%3A%27Chemistry%27&sort=new&restrict_sr=on)|Chemistry, Organic Chemistry, Polymers, Biochemistry\n",
      "[Social Sciences](/r/askscience/search?q=flair%3ALinguistics+OR+flair%3Asocial%2Bscience+OR+flair%3Apolitical%2Bscience+OR+flair%3AEconomics+OR+flair%3AArchaeology+OR+flair%3AAnthropology&sort=new&restrict_sr=on)|Social Science, Political Science, Economics, Archaeology, Anthropology, Linguistics  \n",
      "[Biology](/r/askscience/search?q=flair%3A%27Biology%27+OR+flair%3A%27paleontology%27&sort=new&restrict_sr=on)|Biology, Evolution, Morphology, Ecology, Synthetic Biology, Microbiology, Cellular Biology, Molecular Biology, Paleontology   \n",
      "[Psychology](/r/askscience/search?q=flair%3A%27Psychology%27&sort=new&restrict_sr=on)|Psychology, Cognitive Psychology, Developmental Psychology, Abnormal, Social Psychology\n",
      "[Medicine](/r/askscience/search?q=flair%3A%27Medicine%27+OR+flair%3A%27COVID-19%27+&restrict_sr=on&sort=new)|Medicine, Oncology, Dentistry, Physiology, Epidemiology, Infectious Disease, Pharmacy, Human Body\n",
      "[Neuroscience](/r/askscience/search?q=flair%3A%27Neuroscience%27&sort=new&restrict_sr=on)|Neuroscience, Neurology, Neurochemistry, Cognitive Neuroscience   \n",
      " \n",
      "###Calendar\n",
      "##### [](/blank)\n",
      "Date|Description\n",
      ":--|:--\n",
      "19 Sep|International Talk Like a Pirate Day\n",
      "20 Sep|Ask Anything Wednesday - Engineering, Mathematics, Computer science\n",
      "27 Sep|Ask Anything Wednesday - Biology, Chemistry, Neuroscience, Medicine, Psychology\n",
      "4 Oct|Ask Anything Wednesday - Economics, Political Science, Linguistics, Anthropology\n",
      "11 Oct|Ask Anything Wednesday - Physics, Astronomy, Earth and Planetary Science\n",
      "\n",
      "\n",
      "\n",
      "\n",
      "\n",
      "###Related subreddits\n",
      "\n",
      "* [Click here for a list of related subs!](/r/askscience/wiki/subreddit_links)\n",
      "\n",
      "### Are you a science expert?\n",
      "\n",
      "* **Looking for flair? [Sign up to be a panelist!](https://www.reddit.com/r/askscience/about/sticky)** \n",
      "\n",
      "---\n",
      "[Header Information](http://goo.gl/cRQDGr) \n",
      "\n",
      "* [Switch to dark theme](http://goo.gl/wRzlXr)\n",
      "* [Switch to light theme](http://goo.gl/cYwdsu)\n",
      "\n",
      "[](#/RES_SR_Config/NightModeCompatible)\n",
      "\n",
      "1. For more open-ended questions, try /r/AskScienceDiscussion | [Sign up to be a panelist!](https://www.reddit.com/r/askscience/about/sticky)\n",
      "\n",
      "\n",
      "\n",
      "We make our world significant by the courage of our questions and by the depth of our answers. -Carl Sagan, *Cosmos*\n",
      "askhistorians\n",
      "AskHistorians\n",
      "> 1. This Week's Theme is [Latin America](https://www.reddit.com/r/AskHistorians/search?q=flair%3ALatin+America&restrict_sr=on&include_over_18=on)\n",
      "\n",
      "#New to \\/r/AskHistorians? Please read our [subreddit rules](/r/AskHistorians/wiki/rules) and [FAQ](/r/AskHistorians/wiki/faq) before posting!\n",
      "\n",
      "#[Apply for Flair](https://www.reddit.com/r/AskHistorians/comments/13podeo/we_once_again_send_out_the_call_for_flairs_the)\n",
      "\n",
      "* **Upvote** informative, well sourced answers\n",
      "* **Downvote** and **Report** comments that are unhelpful or grossly off-topic\n",
      "\n",
      "[](https://twitter.com/askhistorians)\n",
      "\n",
      "[](http://www.reddit.com/r/AskHistorians/wiki/books)\n",
      "\n",
      "##The Rules, in Brief\n",
      "\n",
      "#####1. [Be Nice](/r/AskHistorians/wiki/rules#wiki_civility): No Racism, Bigotry, or Offensive Behavior.\n",
      "#####2. Nothing Less Than [20 Years Old](/r/AskHistorians/wiki/rules#wiki_no_current_events), and [Don't Soapbox](/r/AskHistorians/wiki/rules#wiki_no_political_agendas_or_moralising).\n",
      "#####3. Questions should be [clear and specific in what they ask](https://www.reddit.com/r/AskHistorians/wiki/rules#wiki_questions), and [should be able to get detailed answers from historians whose expertise is likely to be in particular times and places](https://www.reddit.com/r/AskHistorians/wiki/rules#wiki_scope_and_depth).\n",
      "#####4. Write [Original](/r/AskHistorians/wiki/rules#wiki_no_plagiarism), [In-Depth](/r/AskHistorians/wiki/rules#wiki_write_an_in-depth_answer) and [Comprehensive](/r/AskHistorians/wiki/rules#wiki_no_partial_answers_or_.22placeholders.22) [Answers](/r/AskHistorians/wiki/rules#wiki_no_speculation), Using [**Good Historical Practices**](/r/AskHistorians/wiki/rules#wiki_answers).\n",
      "#####5. Provide [Primary and Secondary Sources](/r/AskHistorians/wiki/rules#wiki_sources) If Asked. No Tertiary Sources Like [Wikipedia](/r/AskHistorians/comments/52kf4l/rules_roundtable_18_why_wikipedia_is_not_a_source/).\n",
      "#####6. Serious On-Topic Comments Only: [No Jokes](/r/AskHistorians/wiki/rules#wiki_jokes_and_humour), [Anecdotes](/r/AskHistorians/wiki/rules#wiki_no_personal_anecdotes), [Clutter](/r/AskHistorians/wiki/rules#wiki_clutter), or other [Digressions](/r/AskHistorians/wiki/rules#wiki_digression).\n",
      "#####7. [Report](https://redd.it/442wbx) Comments That Break [Reddiquette](http://www.reddit.com/wiki/reddiquette) or [the Subreddit Rules](/r/AskHistorians/wiki/rules).\n",
      "#####8. Please [Read](/r/AskHistorians/wiki/rules) and [Understand](/r/AskHistorians/wiki/faq/meta#wiki_rules_discussion) the [Rules](/r/AskHistorians/wiki/rules) Before Contributing.\n",
      "\n",
      "##Resources\n",
      "* [Subreddit rules](/r/AskHistorians/wiki/rules)\n",
      "* [Popular questions (FAQ)](/r/AskHistorians/wiki/faq)\n",
      "* [Monthly Award Winners](/r/AskHistorians/wiki/bestof)\n",
      "* [The AskHistorians Podcast](/r/AskHistorians/wiki/podcast)\n",
      "* [Books and Resources list](/r/AskHistorians/wiki/books)\n",
      "* [List of flaired users](/r/AskHistorians/wiki/flairedusers)\n",
      "* [Flaired User Profiles](/r/AskHistorians/wiki/profiles)\n",
      "* [The AskHistorians Browser Extension](/r/AskHistorians/comments/d6dzi7/tired_of_clicking_to_find_only_removed_comments/)\n",
      "* **[More](/r/AskHistorians/wiki/index)**\n",
      "\n",
      "##Flair\n",
      "Our [flaired users](http://www.reddit.com/r/AskHistorians/wiki/flairedusers) have detailed knowledge of their historical specialty and a proven record of excellent contributions to /r/AskHistorians.  \n",
      "\n",
      "######Flair categories\n",
      "\n",
      "* [African&nbsp;History](#flair-africa)\n",
      "* [North&nbsp;American&nbsp;History](#flair-northamerica)\n",
      "* [Middle and South&nbsp;American&nbsp;History](#flair-southamerica)\n",
      "* [Asian&nbsp;History](#flair-asia)\n",
      "* [European&nbsp;History](#flair-europe)\n",
      "* [Middle&nbsp;Eastern&nbsp;History](#flair-middleeast)\n",
      "* [Oceanic&nbsp;History](#flair-oceania)\n",
      "* [Art&nbsp;History](#flair-art)\n",
      "* [History&nbsp;of&nbsp;Religion&nbsp;and&nbsp;Philosophy](#flair-religion)\n",
      "* [Military&nbsp;History](#flair-military)\n",
      "* [History&nbsp;of&nbsp;Science&nbsp;and&nbsp;Technology](#flair-technology)\n",
      "* [Archaeology](#flair-archaeology)\n",
      "* [Quality&nbsp;Contributor](#flair-qualitycontributor)\n",
      "* [Moderator](#flair-moderator)\n",
      "\n",
      "To **nominate** someone else as a Quality Contributor, [message the mods](http://www.reddit.com/message/compose?to=%2Fr%2FAskHistorians).\n",
      "\n",
      "##Upcoming Events\n",
      "\n",
      "[Please Subscribe to our Google Calendar for Upcoming AMAs and Events](https://calendar.google.com/calendar/embed?src=askhistoriansama%40gmail.com&ctz=America%2FNew_York)\n",
      "\n",
      "**May 25th | Panel AMA with /r/AskBibleScholars**\n",
      "\n",
      "**[Previous AMAs](http://www.reddit.com/r/AskHistorians/wiki/amas)**   |   **[Previous Roundtables](http://www.reddit.com/r/AskHistorians/wiki/roundtables)**\n",
      "\n",
      "##Features\n",
      "Feature posts are posted weekly. The current rotation is:\n",
      "\n",
      "* [Monday Methods](http://www.reddit.com/r/AskHistorians/search?q=title%3A%22Monday+Methods%22&restrict_sr=on&sort=new&t=all) ([upcoming themes](http://www.reddit.com/r/AskHistorians/wiki/features/monmethods))\n",
      "* [Tuesday Trivia](http://www.reddit.com/r/AskHistorians/search?q=title%3A%22Tuesday+Trivia%22&restrict_sr=on&sort=new&t=all) ([upcoming themes](http://www.reddit.com/r/AskHistorians/wiki/features/trivia))\n",
      "* [Short Answers to Simple Questions](https://www.reddit.com/r/AskHistorians/search?sort=new&restrict_sr=on&q=flair%3ASASQ)\n",
      "* [Thursday Reading and Research](https://www.reddit.com/r/AskHistorians/search?q=Thursday+Reading+Research&restrict_sr=on&sort=new&t=all)\n",
      "* [Friday Free-for-All](http://www.reddit.com/r/AskHistorians/search?q=title%3A%22Friday+Free-for-All%22&restrict_sr=on&sort=new&t=all)\n",
      "* [Saturday Spotlight](/r/AskHistorians/search?q=saturday+spotlight&sort=new&restrict_sr=on)\n",
      "* [Sunday Digest](http://www.reddit.com/r/AskHistorians/search?q=title%3A%22Sunday+Digest%22&restrict_sr=on&sort=new&t=all)\n",
      "* [AskHistorians Podcast](https://www.reddit.com/r/AskHistorians/search?q=title%3Aaskhistorians+title%3Apodcast&sort=new&restrict_sr=on&t=all) (biweekly)\n",
      "* [Floating Features](http://www.reddit.com/r/AskHistorians/wiki/features/floating)\n",
      "* [Great Questions!](https://www.reddit.com/r/AskHistorians/search?sort=new&restrict_sr=on&q=flair%3AGreat%2BQuestion!)\n",
      "* **[Previous features](/r/AskHistorians/wiki/features)**\n",
      "\n",
      "##Related subreddits\n",
      "\n",
      "* /r/AskScience\n",
      "* /r/AskSocialScience\n",
      "* /r/AskAnthropology\n",
      "* /r/AskAcademia\n",
      "* /r/CredibleDefense\n",
      "* /r/History\n",
      "* /r/badhistory \n",
      "* /r/HistoryWhatIf \n",
      "* /r/WWI\n",
      "* **[More](/r/HistoryNetwork/wiki/listofhistorysubreddits)**\n",
      "\n",
      "##Follow us on social media\n",
      "\n",
      "* [@askhistorians on Twitter](http://twitter.com/askhistorians)\n",
      "* [AskHistorians on Tumblr](http://askhistorians.tumblr.com/)\n",
      "* [AskHistorians on Goodreads](https://www.goodreads.com/user/show/46890061-askhistorians)\n",
      "* [AskHistorians on Facebook](https://www.facebook.com/askhistorians/)\n",
      "ask_politics\n",
      "AskPolitics: Questions for professionals\n",
      "**Welcome to Ask_Politics**\n",
      "---\n",
      "\n",
      "The goal of this subreddit is the promotion of political knowledge by disseminating knowledge of law and policy considerations that drive our representatives and other government actors.\n",
      "\n",
      "**Please note that we are in no way related to /r/politics and have no association with them.**\n",
      "\n",
      "[Check out our recommended reading list!](http://www.reddit.com/r/Ask_Politics/wiki/book_list)\n",
      "\n",
      "**Rules**\n",
      "---\n",
      "\n",
      "[Read our updated and expanded guidelines.](http://www.reddit.com/r/Ask_Politics/wiki/rules)\n",
      "\n",
      "**1.** Be respectful, civil, polite.\n",
      "\n",
      "**2.** Posts should be good-faith attempts to ask questions about politics.\n",
      "\n",
      "**3.** Top-tier comments should be good-faith, fact-based efforts to answer questions.\n",
      "\n",
      "* **3.b.** All comments should still contribute to healthy discussion.\n",
      "\n",
      "**4.** Avoid layman speculation or unsourceable claims.\n",
      "\n",
      "**5.** Avoid personal insults or attacks, partisan bickering, etc.  \n",
      "\n",
      "**6.a.** For the purposes of this subreddit, \"Politics\" includes:\n",
      " \n",
      "* Both the US and International issues\n",
      "* Military actions and their political ramifications\n",
      "* Police/Law Enforcement behavior\n",
      "* Any serving or formerly serving elected official, local, state and federal. \n",
      "* Appointed judges, cases and anything in the judicial branch.\n",
      "* Unions/Super-Pacs\n",
      "\n",
      "**6.b.** \"Politics\" does not include:\n",
      "\n",
      "* Subreddit drama\n",
      "* \"What am I?\" questions\n",
      "* Advertising\n",
      "\n",
      "Items that are only tangentially related to politics may be removed at the moderators' discretion.  These would include items where the primary discussion is on a topic other than politics, although certain exceptions may be made for economic, legal and other topics if they are actively being discussed.\n",
      "\n",
      "If you feel that your post has been removed unfairly, please message the moderators.  If possible, please include a link to the message in question to make our investigation faster.\n",
      "\n",
      "**User Flair**\n",
      "---\n",
      "\n",
      "Flair is essentially a badge meant to display a user's area of expertise. Flaired users are held to high standards in this subreddit. Flair is available to those working in politics or a related field whose expertise is directly related to the content of this subreddit. For more details, [see here](https://www.reddit.com/r/Ask_Politics/wiki/rules#wiki_flair).\n",
      "askhistorians\n",
      "AskHistorians\n",
      "> 1. This Week's Theme is [Latin America](https://www.reddit.com/r/AskHistorians/search?q=flair%3ALatin+America&restrict_sr=on&include_over_18=on)\n",
      "\n",
      "#New to \\/r/AskHistorians? Please read our [subreddit rules](/r/AskHistorians/wiki/rules) and [FAQ](/r/AskHistorians/wiki/faq) before posting!\n",
      "\n",
      "#[Apply for Flair](https://www.reddit.com/r/AskHistorians/comments/13podeo/we_once_again_send_out_the_call_for_flairs_the)\n",
      "\n",
      "* **Upvote** informative, well sourced answers\n",
      "* **Downvote** and **Report** comments that are unhelpful or grossly off-topic\n",
      "\n",
      "[](https://twitter.com/askhistorians)\n",
      "\n",
      "[](http://www.reddit.com/r/AskHistorians/wiki/books)\n",
      "\n",
      "##The Rules, in Brief\n",
      "\n",
      "#####1. [Be Nice](/r/AskHistorians/wiki/rules#wiki_civility): No Racism, Bigotry, or Offensive Behavior.\n",
      "#####2. Nothing Less Than [20 Years Old](/r/AskHistorians/wiki/rules#wiki_no_current_events), and [Don't Soapbox](/r/AskHistorians/wiki/rules#wiki_no_political_agendas_or_moralising).\n",
      "#####3. Questions should be [clear and specific in what they ask](https://www.reddit.com/r/AskHistorians/wiki/rules#wiki_questions), and [should be able to get detailed answers from historians whose expertise is likely to be in particular times and places](https://www.reddit.com/r/AskHistorians/wiki/rules#wiki_scope_and_depth).\n",
      "#####4. Write [Original](/r/AskHistorians/wiki/rules#wiki_no_plagiarism), [In-Depth](/r/AskHistorians/wiki/rules#wiki_write_an_in-depth_answer) and [Comprehensive](/r/AskHistorians/wiki/rules#wiki_no_partial_answers_or_.22placeholders.22) [Answers](/r/AskHistorians/wiki/rules#wiki_no_speculation), Using [**Good Historical Practices**](/r/AskHistorians/wiki/rules#wiki_answers).\n",
      "#####5. Provide [Primary and Secondary Sources](/r/AskHistorians/wiki/rules#wiki_sources) If Asked. No Tertiary Sources Like [Wikipedia](/r/AskHistorians/comments/52kf4l/rules_roundtable_18_why_wikipedia_is_not_a_source/).\n",
      "#####6. Serious On-Topic Comments Only: [No Jokes](/r/AskHistorians/wiki/rules#wiki_jokes_and_humour), [Anecdotes](/r/AskHistorians/wiki/rules#wiki_no_personal_anecdotes), [Clutter](/r/AskHistorians/wiki/rules#wiki_clutter), or other [Digressions](/r/AskHistorians/wiki/rules#wiki_digression).\n",
      "#####7. [Report](https://redd.it/442wbx) Comments That Break [Reddiquette](http://www.reddit.com/wiki/reddiquette) or [the Subreddit Rules](/r/AskHistorians/wiki/rules).\n",
      "#####8. Please [Read](/r/AskHistorians/wiki/rules) and [Understand](/r/AskHistorians/wiki/faq/meta#wiki_rules_discussion) the [Rules](/r/AskHistorians/wiki/rules) Before Contributing.\n",
      "\n",
      "##Resources\n",
      "* [Subreddit rules](/r/AskHistorians/wiki/rules)\n",
      "* [Popular questions (FAQ)](/r/AskHistorians/wiki/faq)\n",
      "* [Monthly Award Winners](/r/AskHistorians/wiki/bestof)\n",
      "* [The AskHistorians Podcast](/r/AskHistorians/wiki/podcast)\n",
      "* [Books and Resources list](/r/AskHistorians/wiki/books)\n",
      "* [List of flaired users](/r/AskHistorians/wiki/flairedusers)\n",
      "* [Flaired User Profiles](/r/AskHistorians/wiki/profiles)\n",
      "* [The AskHistorians Browser Extension](/r/AskHistorians/comments/d6dzi7/tired_of_clicking_to_find_only_removed_comments/)\n",
      "* **[More](/r/AskHistorians/wiki/index)**\n",
      "\n",
      "##Flair\n",
      "Our [flaired users](http://www.reddit.com/r/AskHistorians/wiki/flairedusers) have detailed knowledge of their historical specialty and a proven record of excellent contributions to /r/AskHistorians.  \n",
      "\n",
      "######Flair categories\n",
      "\n",
      "* [African&nbsp;History](#flair-africa)\n",
      "* [North&nbsp;American&nbsp;History](#flair-northamerica)\n",
      "* [Middle and South&nbsp;American&nbsp;History](#flair-southamerica)\n",
      "* [Asian&nbsp;History](#flair-asia)\n",
      "* [European&nbsp;History](#flair-europe)\n",
      "* [Middle&nbsp;Eastern&nbsp;History](#flair-middleeast)\n",
      "* [Oceanic&nbsp;History](#flair-oceania)\n",
      "* [Art&nbsp;History](#flair-art)\n",
      "* [History&nbsp;of&nbsp;Religion&nbsp;and&nbsp;Philosophy](#flair-religion)\n",
      "* [Military&nbsp;History](#flair-military)\n",
      "* [History&nbsp;of&nbsp;Science&nbsp;and&nbsp;Technology](#flair-technology)\n",
      "* [Archaeology](#flair-archaeology)\n",
      "* [Quality&nbsp;Contributor](#flair-qualitycontributor)\n",
      "* [Moderator](#flair-moderator)\n",
      "\n",
      "To **nominate** someone else as a Quality Contributor, [message the mods](http://www.reddit.com/message/compose?to=%2Fr%2FAskHistorians).\n",
      "\n",
      "##Upcoming Events\n",
      "\n",
      "[Please Subscribe to our Google Calendar for Upcoming AMAs and Events](https://calendar.google.com/calendar/embed?src=askhistoriansama%40gmail.com&ctz=America%2FNew_York)\n",
      "\n",
      "**May 25th | Panel AMA with /r/AskBibleScholars**\n",
      "\n",
      "**[Previous AMAs](http://www.reddit.com/r/AskHistorians/wiki/amas)**   |   **[Previous Roundtables](http://www.reddit.com/r/AskHistorians/wiki/roundtables)**\n",
      "\n",
      "##Features\n",
      "Feature posts are posted weekly. The current rotation is:\n",
      "\n",
      "* [Monday Methods](http://www.reddit.com/r/AskHistorians/search?q=title%3A%22Monday+Methods%22&restrict_sr=on&sort=new&t=all) ([upcoming themes](http://www.reddit.com/r/AskHistorians/wiki/features/monmethods))\n",
      "* [Tuesday Trivia](http://www.reddit.com/r/AskHistorians/search?q=title%3A%22Tuesday+Trivia%22&restrict_sr=on&sort=new&t=all) ([upcoming themes](http://www.reddit.com/r/AskHistorians/wiki/features/trivia))\n",
      "* [Short Answers to Simple Questions](https://www.reddit.com/r/AskHistorians/search?sort=new&restrict_sr=on&q=flair%3ASASQ)\n",
      "* [Thursday Reading and Research](https://www.reddit.com/r/AskHistorians/search?q=Thursday+Reading+Research&restrict_sr=on&sort=new&t=all)\n",
      "* [Friday Free-for-All](http://www.reddit.com/r/AskHistorians/search?q=title%3A%22Friday+Free-for-All%22&restrict_sr=on&sort=new&t=all)\n",
      "* [Saturday Spotlight](/r/AskHistorians/search?q=saturday+spotlight&sort=new&restrict_sr=on)\n",
      "* [Sunday Digest](http://www.reddit.com/r/AskHistorians/search?q=title%3A%22Sunday+Digest%22&restrict_sr=on&sort=new&t=all)\n",
      "* [AskHistorians Podcast](https://www.reddit.com/r/AskHistorians/search?q=title%3Aaskhistorians+title%3Apodcast&sort=new&restrict_sr=on&t=all) (biweekly)\n",
      "* [Floating Features](http://www.reddit.com/r/AskHistorians/wiki/features/floating)\n",
      "* [Great Questions!](https://www.reddit.com/r/AskHistorians/search?sort=new&restrict_sr=on&q=flair%3AGreat%2BQuestion!)\n",
      "* **[Previous features](/r/AskHistorians/wiki/features)**\n",
      "\n",
      "##Related subreddits\n",
      "\n",
      "* /r/AskScience\n",
      "* /r/AskSocialScience\n",
      "* /r/AskAnthropology\n",
      "* /r/AskAcademia\n",
      "* /r/CredibleDefense\n",
      "* /r/History\n",
      "* /r/badhistory \n",
      "* /r/HistoryWhatIf \n",
      "* /r/WWI\n",
      "* **[More](/r/HistoryNetwork/wiki/listofhistorysubreddits)**\n",
      "\n",
      "##Follow us on social media\n",
      "\n",
      "* [@askhistorians on Twitter](http://twitter.com/askhistorians)\n",
      "* [AskHistorians on Tumblr](http://askhistorians.tumblr.com/)\n",
      "* [AskHistorians on Goodreads](https://www.goodreads.com/user/show/46890061-askhistorians)\n",
      "* [AskHistorians on Facebook](https://www.facebook.com/askhistorians/)\n"
     ]
    }
   ],
   "source": [
    "test_sub_looper(test_subs_list)"
   ]
  },
  {
   "cell_type": "code",
   "execution_count": 24,
   "id": "6b7bba21-fc3f-4a77-a165-29f790f00364",
   "metadata": {},
   "outputs": [],
   "source": [
    "posts_list2 = []\n",
    "def sub_looper(subs):\n",
    "    \n",
    "    for sub in subs:\n",
    "        posts = reddit.subreddit(sub).top(limit=900)\n",
    "\n",
    "        for post in posts:\n",
    "            if not post.over_18:\n",
    "                post.comments.replace_more(limit=0)\n",
    "                highest_ups = -1\n",
    "                for comment in post.comments:\n",
    "                    if comment.ups > highest_ups:\n",
    "                        best_comment = comment.body\n",
    "                        highest_ups = comment.ups\n",
    "\n",
    "                posts_list2.append(\n",
    "                {'title' : post.title,\n",
    "                 'selftext' : post.selftext,\n",
    "                 'subreddit' : post.subreddit,\n",
    "                 'comments' : post.comments,\n",
    "                 'created_utc' : post.created_utc,\n",
    "                 'top_comment' : best_comment,\n",
    "                 'comment_upvotes' : highest_ups})\n",
    "    "
   ]
  },
  {
   "cell_type": "code",
   "execution_count": 25,
   "id": "afe65f80-9840-4512-be13-8e80fd7f677b",
   "metadata": {},
   "outputs": [],
   "source": [
    "sub_looper(test_subs_list)"
   ]
  },
  {
   "cell_type": "code",
   "execution_count": 26,
   "id": "8a82319a-ac19-4349-babe-45e2cb7c3b1f",
   "metadata": {
    "collapsed": true,
    "jupyter": {
     "outputs_hidden": true
    },
    "tags": []
   },
   "outputs": [
    {
     "data": {
      "text/plain": [
       "[{'title': 'Did anyone else dream of moving to America when they were younger, but just think f*ck that?',\n",
       "  'selftext': \"I know I did as a late teen early 20's. Now it just doesn't seem safe.\",\n",
       "  'subreddit': Subreddit(display_name='AskUK'),\n",
       "  'comments': <praw.models.comment_forest.CommentForest at 0x1f4ffec9400>,\n",
       "  'created_utc': 1604438348.0,\n",
       "  'top_comment': 'Definitely growing up in the 90s it seemed to be an amazing place with this magical draw, people definitely looked up to it, and the American Dream.\\n\\nBut now as an adult... Nope. Wouldn\\'t touch it with a barge pole.\\n\\nCheeky edit: Well as I didn\\'t expect this casual comment or even this post to go as big as this. Let me add some context to me above comments.\\n\\n90s were a magical time. No 24 hour news. No social media. No instant knowledge of things happening the other side of the world. I don\\'t think anyone was really aware of the gun movement, America\\'s own brand of racism, there was no access to the deep divisions, or who knows maybe it wasn\\'t always so divided, but either way it wasn\\'t on your every day British persons radar, and neither was any crime statistics etc. It was all looked on with massive positivity. \\n\\nAmerica was the Fresh Prince, The Simpsons, mega movie stars and singers, a place for amazingly cheap shopping, good value holidays to Disney World (us Brits don\\'t do the California one), Pam Anderson running along a beach with Knight rider, GET OFF MY PLANE, that bloke from Naked Gun having a showbiz trial, even cameras in the courtroom was a complete novelty, a mountain of food for $5 in a diner, Hakuna Matata, a cheeky charasmatic youthful President, a blinding Olympics in Atlanta, an amazing World Cup... \\n\\nNot even Columbine was off putting because at the time, it was believed that *clearly* that was a one off horrific act that couldn\\'t possibly be repeated.\\n\\nBut now, with our 24 hour news, all in sundry mouthing off on Twitter, Facebook and Fake News, the racial issues, gun toting mullety men mixed with me now being a proper adult and seeing America doesn\\'t have universal healthcare, has draconian alcohol laws, awful employment law... It\\'s just not the dreamland it genuinely was in the 90s.\\n\\nIt you offered ANY Brit the chance to immigrate there in the 90s, I think they would\\'ve bitten your arm off at the opportunity, but now? I\\'d be surprised if anyone wanted to move there \"just because\".\\n\\nAnd this isn\\'t about getting hurt and saying \"Well I wouldn\\'t want to move to the UK either\", yeah, course. But in the 90s no one eye balled the UK in the way the ogggled the US with envious, excited eyes.',\n",
       "  'comment_upvotes': 2217},\n",
       " {'title': 'My girlfriend just ate a digestive with cheese like it was a cracker. This is absolutely mental, right?',\n",
       "  'selftext': 'My girlfriend has just started eating digestive biscuits with little blocks of cheddar on top of them, claiming that it\\'s a thing that \"everybody does.\"\\n\\nThis is mental, and a good reason to abandon our relationship, right?\\n\\nEDIT: TIL that this country is full of absolute abominations.\\n\\nEDIT 2: I see that my post has reached the hot page, so I\\'m waiting for Buzzfeed or LadBible to pick up on this... And hi to all you Americans sticking your head through the door. A digestive is a biscuit. It\\'s not one of those vile things you call biscuits, but an actual biscuit. It\\'s primary function is to be dipped into tea and then eaten.\\n\\nEDIT 3: Shut up, America. (Edit to the edit: To be clear, this isn\\'t for all of you. It\\'s for the group of idiots that have come in, taken this whole thing way too seriously and just been generally rude.)\\n\\nEDIT 4: For the idiot that accused me of racism, calling somebody \"crackers\" is not a racist term in the UK. If you call somebody crackers, you\\'re jokingly calling them crazy.',\n",
       "  'subreddit': Subreddit(display_name='AskUK'),\n",
       "  'comments': <praw.models.comment_forest.CommentForest at 0x1f4ffcb2a60>,\n",
       "  'created_utc': 1664376461.0,\n",
       "  'top_comment': \"The McVities 'biscuits for cheese' box literally has a digestive in it, what are you talking about?\",\n",
       "  'comment_upvotes': 7338},\n",
       " {'title': 'Explain the joke: Received this on whatsapp, cannot understand what the joke/point is. can somebody explain',\n",
       "  'selftext': '',\n",
       "  'subreddit': Subreddit(display_name='AskStatistics'),\n",
       "  'comments': <praw.models.comment_forest.CommentForest at 0x1f4a4fcdee0>,\n",
       "  'created_utc': 1625196781.0,\n",
       "  'top_comment': \"The people most likely to respond to the survey were ... people who like responding to surveys. \\n\\nIt's a representation of selection bias. This is a volunteer sample, which has a tendency to produce samples of people who are already interested in the subject, and may not be at all representative of the population of interest.\",\n",
       "  'comment_upvotes': 159},\n",
       " {'title': 'What is the kurtosis value of this distribution?',\n",
       "  'selftext': '',\n",
       "  'subreddit': Subreddit(display_name='AskStatistics'),\n",
       "  'comments': <praw.models.comment_forest.CommentForest at 0x1f4ae64de80>,\n",
       "  'created_utc': 1589220952.0,\n",
       "  'top_comment': 'The value is 3: the Father, the Son, and the Holy Ghost.',\n",
       "  'comment_upvotes': 45},\n",
       " {'title': \"What are nail polish remover bottles made of? Doesn't acetone dissolve plastics?\",\n",
       "  'selftext': 'This kept me awake. I must know.',\n",
       "  'subreddit': Subreddit(display_name='AskSciTech'),\n",
       "  'comments': <praw.models.comment_forest.CommentForest at 0x1f4a8403910>,\n",
       "  'created_utc': 1395181296.0,\n",
       "  'top_comment': 'probably HDPE. high density polyethylene. \\n\\nhttp://www.plasticsintl.com/plastics_chemical_resistence_chart.html',\n",
       "  'comment_upvotes': 6},\n",
       " {'title': 'Clockwork AI?',\n",
       "  'selftext': 'Is it possible to create an AI from clockwork?\\n',\n",
       "  'subreddit': Subreddit(display_name='AskSciTech'),\n",
       "  'comments': <praw.models.comment_forest.CommentForest at 0x1f4ae670550>,\n",
       "  'created_utc': 1539698269.0,\n",
       "  'top_comment': 'At MIT they built a mechanical computer that was able to play tic-tac-toe. They made it entirely out of Tinker Toys.\\n\\nFor something so complex that it could have consciousness, it would be so large that you would need to build it in space. I think due to other limitations, you would need to use very hard materials, perhaps even something as hard as diamond.',\n",
       "  'comment_upvotes': 2}]"
      ]
     },
     "execution_count": 26,
     "metadata": {},
     "output_type": "execute_result"
    }
   ],
   "source": [
    "posts_list2"
   ]
  },
  {
   "cell_type": "code",
   "execution_count": null,
   "id": "f6250b6a-e8d6-44b9-92ab-e9d7aafc8c07",
   "metadata": {},
   "outputs": [],
   "source": []
  }
 ],
 "metadata": {
  "kernelspec": {
   "display_name": "Python 3 (ipykernel)",
   "language": "python",
   "name": "python3"
  },
  "language_info": {
   "codemirror_mode": {
    "name": "ipython",
    "version": 3
   },
   "file_extension": ".py",
   "mimetype": "text/x-python",
   "name": "python",
   "nbconvert_exporter": "python",
   "pygments_lexer": "ipython3",
   "version": "3.9.7"
  }
 },
 "nbformat": 4,
 "nbformat_minor": 5
}
