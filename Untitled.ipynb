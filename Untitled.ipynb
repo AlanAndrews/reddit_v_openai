{
 "cells": [
  {
   "cell_type": "markdown",
   "id": "3b7feb1f-033a-4d74-b8d4-1e62851ec9ee",
   "metadata": {},
   "source": [
    "# Project 3 code"
   ]
  },
  {
   "cell_type": "code",
   "execution_count": 2,
   "id": "b37ea015-4800-475d-bfa3-e1345b4d11e9",
   "metadata": {},
   "outputs": [],
   "source": [
    "import praw"
   ]
  },
  {
   "cell_type": "code",
   "execution_count": 5,
   "id": "e35c610d-827b-43bd-9d93-b4ef76bbc104",
   "metadata": {},
   "outputs": [],
   "source": [
    "reddit = praw.Reddit(\n",
    "    client_id=\"mzGsD27OMouwbHk5AemEhA\",\n",
    "    client_secret=\"_VNj0d86dR73ayqJ4TPLudaKQNvccA\",\n",
    "    user_agent=\"testscript by u/Particular-Waltz1748\",\n",
    ")"
   ]
  },
  {
   "cell_type": "code",
   "execution_count": 7,
   "id": "584aef02-8322-4c65-ad10-c2fd6854ba21",
   "metadata": {},
   "outputs": [
    {
     "name": "stdout",
     "output_type": "stream",
     "text": [
      "True\n"
     ]
    }
   ],
   "source": [
    "print(reddit.read_only)"
   ]
  },
  {
   "cell_type": "code",
   "execution_count": 9,
   "id": "2f3d0c95-f346-40c6-815b-30aec2ae1b19",
   "metadata": {},
   "outputs": [
    {
     "name": "stdout",
     "output_type": "stream",
     "text": [
      "test\n",
      "𝕥𝕖𝕤𝕥 𝔱𝔢𝔰𝔱 𝓉ℯ𝓈𝖙 ⓣⓔⓢⓣ 🅣🅔🅢🅣\n",
      "Test\n",
      "BigQuery's user-friendly SQL: Elevating analytics, data quality, and security\n",
      "title for a test\n",
      "Photorealistic 3D Tiles now in Preview with updated daily quotas\n",
      "Test dog\n"
     ]
    }
   ],
   "source": [
    "# testing. copied from documentation\n",
    "for submission in reddit.subreddit(\"test\").hot(limit=10):\n",
    "    if not submission.over_18:\n",
    "        print(submission.title)"
   ]
  },
  {
   "cell_type": "code",
   "execution_count": 10,
   "id": "42044d73-074e-4fe6-aa22-940fe4763bb6",
   "metadata": {
    "collapsed": true,
    "jupyter": {
     "outputs_hidden": true
    },
    "tags": []
   },
   "outputs": [
    {
     "name": "stdout",
     "output_type": "stream",
     "text": [
      "redditdev\n",
      "reddit Development\n",
      "A subreddit for discussion of Reddit's API and Reddit API clients.\n",
      "\n",
      "* [Read the API Overview & Rules](https://github.com/reddit/reddit/wiki/API)\n",
      "* [Check out the API documentation](http://www.reddit.com/dev/api)\n",
      "* [PRAW chat](https://join.slack.com/t/praw/shared_invite/enQtOTUwMDcxOTQ0NzY5LWVkMGQ3ZDk5YmQ5MDEwYTZmMmJkMTJkNjBkNTY3OTU0Y2E2NGRlY2ZhZTAzMWZmMWRiMTMwYjdjODkxOGYyZjY)\n",
      "* [Snoowrap chat](https://gitter.im/not-an-aardvark/snoowrap)\n",
      "* [Unofficial Discord](https://discord.gg/hVMhxpV)\n",
      "* Please do not request bots here. Consider /r/requestabot instead.\n",
      "\n",
      "\n",
      "Please confine discussion to Reddit's API instead of using this as a soapbox to talk to the admins. In particular, use [/r/ideasfortheadmins](/r/ideasfortheadmins) for feature ideas and [/r/bugs](/r/bugs) for bugs. If you have general reddit questions, try [/r/help](/r/help).\n",
      "\n",
      "To see an explanation of recent user-facing changes to reddit (and the code behind them), check out /r/changelog.\n",
      "\n",
      "---\n",
      "\n",
      "To report a security issue with reddit, please send an email to <security@reddit.com> .\n",
      "\n",
      "This is an admin-sponsored subreddit.\n"
     ]
    }
   ],
   "source": [
    "# testing. copied from documentation\n",
    "\n",
    "# assume you have a praw.Reddit instance bound to variable `reddit`\n",
    "subreddit = reddit.subreddit(\"redditdev\")\n",
    "\n",
    "print(subreddit.display_name)\n",
    "# Output: redditdev\n",
    "print(subreddit.title)\n",
    "# Output: reddit development\n",
    "print(subreddit.description)\n",
    "# Output: a subreddit for discussion of ..."
   ]
  },
  {
   "cell_type": "code",
   "execution_count": 16,
   "id": "d167bdb3-2374-4b3d-8510-02a4ba7b1a43",
   "metadata": {},
   "outputs": [],
   "source": [
    "posts = reddit.subreddit(\"ask\").hot(limit=1000)"
   ]
  },
  {
   "cell_type": "code",
   "execution_count": 15,
   "id": "0220fbc3-b674-4c7b-8462-e1a91657df79",
   "metadata": {},
   "outputs": [
    {
     "data": {
      "text/plain": [
       "praw.models.reddit.subreddit.Subreddit"
      ]
     },
     "execution_count": 15,
     "metadata": {},
     "output_type": "execute_result"
    }
   ],
   "source": [
    "type(posts)"
   ]
  },
  {
   "cell_type": "code",
   "execution_count": 21,
   "id": "ad216768-12b9-49f3-ad54-fd71e42d5162",
   "metadata": {},
   "outputs": [],
   "source": [
    "posts = reddit.subreddit(\"ask\").hot(limit=1000)\n",
    "\n",
    "posts_list = []\n",
    "\n",
    "for post in posts:\n",
    "    if not post.over_18:\n",
    "        post.comments.replace_more(limit=0)\n",
    "        highest_ups = -1\n",
    "        for comment in post.comments:\n",
    "            if comment.ups > highest_ups:\n",
    "                best_comment = comment.body\n",
    "                highest_ups = comment.ups\n",
    "            \n",
    "        posts_list.append(\n",
    "        {'title' : post.title,\n",
    "         'selftext' : post.selftext,\n",
    "         'subreddit' : post.subreddit,\n",
    "         'comments' : post.comments,\n",
    "         'created_utc' : post.created_utc,\n",
    "         'top_comment' : best_comment,\n",
    "         'comment_upvotes' : highest_ups})\n"
   ]
  },
  {
   "cell_type": "code",
   "execution_count": 26,
   "id": "00f5be89-a876-4613-8ab8-4eeab333f21a",
   "metadata": {},
   "outputs": [
    {
     "data": {
      "text/plain": [
       "714"
      ]
     },
     "execution_count": 26,
     "metadata": {},
     "output_type": "execute_result"
    }
   ],
   "source": [
    "len(posts_list)"
   ]
  },
  {
   "cell_type": "code",
   "execution_count": null,
   "id": "057710c3-3968-4552-b998-da2f8b5b73b9",
   "metadata": {},
   "outputs": [],
   "source": []
  }
 ],
 "metadata": {
  "kernelspec": {
   "display_name": "Python 3 (ipykernel)",
   "language": "python",
   "name": "python3"
  },
  "language_info": {
   "codemirror_mode": {
    "name": "ipython",
    "version": 3
   },
   "file_extension": ".py",
   "mimetype": "text/x-python",
   "name": "python",
   "nbconvert_exporter": "python",
   "pygments_lexer": "ipython3",
   "version": "3.9.7"
  }
 },
 "nbformat": 4,
 "nbformat_minor": 5
}
