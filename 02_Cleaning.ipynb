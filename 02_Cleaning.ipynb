{
 "cells": [
  {
   "cell_type": "markdown",
   "id": "a066a650-bb78-4903-b1cf-ef338acc96ab",
   "metadata": {},
   "source": [
    "## Data cleaning"
   ]
  },
  {
   "cell_type": "code",
   "execution_count": 2,
   "id": "187bb33d-f1f6-4ac6-9544-31759dad890d",
   "metadata": {},
   "outputs": [],
   "source": [
    "import pandas as pd"
   ]
  },
  {
   "cell_type": "code",
   "execution_count": 3,
   "id": "71cb26dd-6868-414e-b890-92a79555102e",
   "metadata": {
    "tags": []
   },
   "outputs": [],
   "source": [
    "davinci_df = pd.read_csv('./data/davinci_answers.csv')\n",
    "# davinci_df.head(30)"
   ]
  },
  {
   "cell_type": "code",
   "execution_count": 4,
   "id": "e2654480-4940-4bc7-8a51-5c0a07ae24ad",
   "metadata": {},
   "outputs": [],
   "source": [
    "davinci_df['text'] = davinci_df['text'].str.replace('\\n', '')"
   ]
  },
  {
   "cell_type": "code",
   "execution_count": 16,
   "id": "0f2756c7-87b6-46fc-a505-e4a7455c2c03",
   "metadata": {},
   "outputs": [],
   "source": [
    "# davinci_df = davinci_df.drop(['Unnamed: 0'], axis=1)"
   ]
  },
  {
   "cell_type": "code",
   "execution_count": 5,
   "id": "97823dfa-579f-4e12-a752-6e14f4446349",
   "metadata": {},
   "outputs": [],
   "source": [
    "reddit_df = pd.read_csv('./data/reddit_posts.csv')"
   ]
  },
  {
   "cell_type": "code",
   "execution_count": 6,
   "id": "6bfc7b07-8e61-484d-888a-230f512718a3",
   "metadata": {
    "collapsed": true,
    "jupyter": {
     "outputs_hidden": true
    },
    "tags": []
   },
   "outputs": [
    {
     "data": {
      "text/html": [
       "<div>\n",
       "<style scoped>\n",
       "    .dataframe tbody tr th:only-of-type {\n",
       "        vertical-align: middle;\n",
       "    }\n",
       "\n",
       "    .dataframe tbody tr th {\n",
       "        vertical-align: top;\n",
       "    }\n",
       "\n",
       "    .dataframe thead th {\n",
       "        text-align: right;\n",
       "    }\n",
       "</style>\n",
       "<table border=\"1\" class=\"dataframe\">\n",
       "  <thead>\n",
       "    <tr style=\"text-align: right;\">\n",
       "      <th></th>\n",
       "      <th>Unnamed: 0</th>\n",
       "      <th>title</th>\n",
       "      <th>selftext</th>\n",
       "      <th>subreddit</th>\n",
       "      <th>comments</th>\n",
       "      <th>created_utc</th>\n",
       "      <th>top_comment</th>\n",
       "      <th>comment_upvotes</th>\n",
       "    </tr>\n",
       "  </thead>\n",
       "  <tbody>\n",
       "    <tr>\n",
       "      <th>0</th>\n",
       "      <td>0</td>\n",
       "      <td>What is something you can say \"I'm with the bo...</td>\n",
       "      <td>Scanning QR codes for a restaurant/bar menu is...</td>\n",
       "      <td>ask</td>\n",
       "      <td>&lt;praw.models.comment_forest.CommentForest obje...</td>\n",
       "      <td>1.688044e+09</td>\n",
       "      <td>Any business which requires you to use an app....</td>\n",
       "      <td>3592</td>\n",
       "    </tr>\n",
       "    <tr>\n",
       "      <th>1</th>\n",
       "      <td>1</td>\n",
       "      <td>What’s a dead give away you grew up poor?</td>\n",
       "      <td>I was having a conversation with a friend and ...</td>\n",
       "      <td>ask</td>\n",
       "      <td>&lt;praw.models.comment_forest.CommentForest obje...</td>\n",
       "      <td>1.688686e+09</td>\n",
       "      <td>[deleted]</td>\n",
       "      <td>6955</td>\n",
       "    </tr>\n",
       "    <tr>\n",
       "      <th>2</th>\n",
       "      <td>2</td>\n",
       "      <td>My dad is just under 50 and he constantly says...</td>\n",
       "      <td>He says there would only be mabye 1 or 2 big k...</td>\n",
       "      <td>ask</td>\n",
       "      <td>&lt;praw.models.comment_forest.CommentForest obje...</td>\n",
       "      <td>1.681396e+09</td>\n",
       "      <td>It's absolutely true. Resturants near me have ...</td>\n",
       "      <td>3048</td>\n",
       "    </tr>\n",
       "  </tbody>\n",
       "</table>\n",
       "</div>"
      ],
      "text/plain": [
       "   Unnamed: 0                                              title  \\\n",
       "0           0  What is something you can say \"I'm with the bo...   \n",
       "1           1          What’s a dead give away you grew up poor?   \n",
       "2           2  My dad is just under 50 and he constantly says...   \n",
       "\n",
       "                                            selftext subreddit  \\\n",
       "0  Scanning QR codes for a restaurant/bar menu is...       ask   \n",
       "1  I was having a conversation with a friend and ...       ask   \n",
       "2  He says there would only be mabye 1 or 2 big k...       ask   \n",
       "\n",
       "                                            comments   created_utc  \\\n",
       "0  <praw.models.comment_forest.CommentForest obje...  1.688044e+09   \n",
       "1  <praw.models.comment_forest.CommentForest obje...  1.688686e+09   \n",
       "2  <praw.models.comment_forest.CommentForest obje...  1.681396e+09   \n",
       "\n",
       "                                         top_comment  comment_upvotes  \n",
       "0  Any business which requires you to use an app....             3592  \n",
       "1                                          [deleted]             6955  \n",
       "2  It's absolutely true. Resturants near me have ...             3048  "
      ]
     },
     "execution_count": 6,
     "metadata": {},
     "output_type": "execute_result"
    }
   ],
   "source": [
    "reddit_df.head()"
   ]
  },
  {
   "cell_type": "code",
   "execution_count": 76,
   "id": "454e6bad-e838-48c5-9a2e-b24a68b6bddd",
   "metadata": {},
   "outputs": [],
   "source": [
    "# reddit_df= reddit_df[reddit_df['top_comment'] != '[deleted]']"
   ]
  },
  {
   "cell_type": "code",
   "execution_count": 19,
   "id": "51076f0e-977c-474e-a806-3e44bf0abca3",
   "metadata": {},
   "outputs": [],
   "source": [
    "# reddit_df = reddit_df.drop(['Unnamed: 0'], axis=1)"
   ]
  },
  {
   "cell_type": "code",
   "execution_count": 80,
   "id": "6c7fbe54-fe28-4114-895c-623e9ac9c0ac",
   "metadata": {},
   "outputs": [
    {
     "data": {
      "text/plain": [
       "(5250, 8)"
      ]
     },
     "execution_count": 80,
     "metadata": {},
     "output_type": "execute_result"
    }
   ],
   "source": [
    "reddit_df.shape"
   ]
  },
  {
   "cell_type": "code",
   "execution_count": 81,
   "id": "644137e5-4671-4c7b-9569-9ea8fa540005",
   "metadata": {},
   "outputs": [
    {
     "data": {
      "text/plain": [
       "(5250, 3)"
      ]
     },
     "execution_count": 81,
     "metadata": {},
     "output_type": "execute_result"
    }
   ],
   "source": [
    "davinci_df.shape"
   ]
  },
  {
   "cell_type": "code",
   "execution_count": 6,
   "id": "be34cde7-3c94-42b5-be14-92538792dc26",
   "metadata": {},
   "outputs": [],
   "source": [
    "merged_df = reddit_df.merge(davinci_df, left_index=True, right_index=True)"
   ]
  },
  {
   "cell_type": "code",
   "execution_count": 84,
   "id": "012d8c49-e49e-47f7-b6d5-c2b311683cce",
   "metadata": {
    "tags": []
   },
   "outputs": [
    {
     "data": {
      "text/html": [
       "<div>\n",
       "<style scoped>\n",
       "    .dataframe tbody tr th:only-of-type {\n",
       "        vertical-align: middle;\n",
       "    }\n",
       "\n",
       "    .dataframe tbody tr th {\n",
       "        vertical-align: top;\n",
       "    }\n",
       "\n",
       "    .dataframe thead th {\n",
       "        text-align: right;\n",
       "    }\n",
       "</style>\n",
       "<table border=\"1\" class=\"dataframe\">\n",
       "  <thead>\n",
       "    <tr style=\"text-align: right;\">\n",
       "      <th></th>\n",
       "      <th>Unnamed: 0_x</th>\n",
       "      <th>title</th>\n",
       "      <th>selftext</th>\n",
       "      <th>subreddit</th>\n",
       "      <th>comments</th>\n",
       "      <th>created_utc</th>\n",
       "      <th>top_comment</th>\n",
       "      <th>comment_upvotes</th>\n",
       "      <th>Unnamed: 0_y</th>\n",
       "      <th>text</th>\n",
       "      <th>index</th>\n",
       "    </tr>\n",
       "  </thead>\n",
       "  <tbody>\n",
       "    <tr>\n",
       "      <th>0</th>\n",
       "      <td>0</td>\n",
       "      <td>What is something you can say \"I'm with the bo...</td>\n",
       "      <td>Scanning QR codes for a restaurant/bar menu is...</td>\n",
       "      <td>ask</td>\n",
       "      <td>&lt;praw.models.comment_forest.CommentForest obje...</td>\n",
       "      <td>1.688044e+09</td>\n",
       "      <td>Any business which requires you to use an app....</td>\n",
       "      <td>3592</td>\n",
       "      <td>0</td>\n",
       "      <td>I'm with the boomers on this one - investing i...</td>\n",
       "      <td>0</td>\n",
       "    </tr>\n",
       "    <tr>\n",
       "      <th>1</th>\n",
       "      <td>1</td>\n",
       "      <td>What’s a dead give away you grew up poor?</td>\n",
       "      <td>I was having a conversation with a friend and ...</td>\n",
       "      <td>ask</td>\n",
       "      <td>&lt;praw.models.comment_forest.CommentForest obje...</td>\n",
       "      <td>1.688686e+09</td>\n",
       "      <td>[deleted]</td>\n",
       "      <td>6955</td>\n",
       "      <td>1</td>\n",
       "      <td>Some dead giveaways that you grew up poor incl...</td>\n",
       "      <td>1</td>\n",
       "    </tr>\n",
       "    <tr>\n",
       "      <th>2</th>\n",
       "      <td>2</td>\n",
       "      <td>My dad is just under 50 and he constantly says...</td>\n",
       "      <td>He says there would only be mabye 1 or 2 big k...</td>\n",
       "      <td>ask</td>\n",
       "      <td>&lt;praw.models.comment_forest.CommentForest obje...</td>\n",
       "      <td>1.681396e+09</td>\n",
       "      <td>It's absolutely true. Resturants near me have ...</td>\n",
       "      <td>3048</td>\n",
       "      <td>2</td>\n",
       "      <td>It's possible that this is true, as childhood ...</td>\n",
       "      <td>2</td>\n",
       "    </tr>\n",
       "  </tbody>\n",
       "</table>\n",
       "</div>"
      ],
      "text/plain": [
       "   Unnamed: 0_x                                              title  \\\n",
       "0             0  What is something you can say \"I'm with the bo...   \n",
       "1             1          What’s a dead give away you grew up poor?   \n",
       "2             2  My dad is just under 50 and he constantly says...   \n",
       "\n",
       "                                            selftext subreddit  \\\n",
       "0  Scanning QR codes for a restaurant/bar menu is...       ask   \n",
       "1  I was having a conversation with a friend and ...       ask   \n",
       "2  He says there would only be mabye 1 or 2 big k...       ask   \n",
       "\n",
       "                                            comments   created_utc  \\\n",
       "0  <praw.models.comment_forest.CommentForest obje...  1.688044e+09   \n",
       "1  <praw.models.comment_forest.CommentForest obje...  1.688686e+09   \n",
       "2  <praw.models.comment_forest.CommentForest obje...  1.681396e+09   \n",
       "\n",
       "                                         top_comment  comment_upvotes  \\\n",
       "0  Any business which requires you to use an app....             3592   \n",
       "1                                          [deleted]             6955   \n",
       "2  It's absolutely true. Resturants near me have ...             3048   \n",
       "\n",
       "   Unnamed: 0_y                                               text  index  \n",
       "0             0  I'm with the boomers on this one - investing i...      0  \n",
       "1             1  Some dead giveaways that you grew up poor incl...      1  \n",
       "2             2  It's possible that this is true, as childhood ...      2  "
      ]
     },
     "execution_count": 84,
     "metadata": {},
     "output_type": "execute_result"
    }
   ],
   "source": [
    "merged_df.head(3)"
   ]
  },
  {
   "cell_type": "code",
   "execution_count": 7,
   "id": "0987693f-f383-4c59-b56e-fac326a2c5ac",
   "metadata": {},
   "outputs": [],
   "source": [
    "merged_df = merged_df.drop(['Unnamed: 0_x', 'Unnamed: 0_y'], axis=1)"
   ]
  },
  {
   "cell_type": "code",
   "execution_count": 8,
   "id": "74beafb5-300d-4867-a1f2-ef7361bf200f",
   "metadata": {},
   "outputs": [],
   "source": [
    "merged_df = merged_df[merged_df['top_comment'] != '[removed]']"
   ]
  },
  {
   "cell_type": "code",
   "execution_count": 9,
   "id": "20772e60-6861-4e72-bdb5-7d015e55b425",
   "metadata": {},
   "outputs": [],
   "source": [
    "merged_df = merged_df[merged_df['top_comment'] != '[deleted]']"
   ]
  },
  {
   "cell_type": "code",
   "execution_count": 88,
   "id": "abf43bcb-3fbe-494b-b9ca-52f827a97f03",
   "metadata": {
    "tags": []
   },
   "outputs": [
    {
     "data": {
      "text/plain": [
       "(4906, 9)"
      ]
     },
     "execution_count": 88,
     "metadata": {},
     "output_type": "execute_result"
    }
   ],
   "source": [
    "merged_df.shape"
   ]
  },
  {
   "cell_type": "code",
   "execution_count": 10,
   "id": "9c801e46-b757-4636-a126-3d1676e3cdd7",
   "metadata": {},
   "outputs": [],
   "source": [
    "merged_df['top_comment'] = merged_df['top_comment'].str.replace('\\n', '')"
   ]
  },
  {
   "cell_type": "code",
   "execution_count": 69,
   "id": "d8ee7d70-446f-4bf6-9c81-08d51a855bfc",
   "metadata": {},
   "outputs": [],
   "source": [
    "# merged_df['text'] = merged_df['text'].str.replace('\\n', '')"
   ]
  },
  {
   "cell_type": "code",
   "execution_count": 30,
   "id": "fef58dd8-51c0-4261-b780-a6c8943883b4",
   "metadata": {
    "tags": []
   },
   "outputs": [
    {
     "data": {
      "text/html": [
       "<div>\n",
       "<style scoped>\n",
       "    .dataframe tbody tr th:only-of-type {\n",
       "        vertical-align: middle;\n",
       "    }\n",
       "\n",
       "    .dataframe tbody tr th {\n",
       "        vertical-align: top;\n",
       "    }\n",
       "\n",
       "    .dataframe thead th {\n",
       "        text-align: right;\n",
       "    }\n",
       "</style>\n",
       "<table border=\"1\" class=\"dataframe\">\n",
       "  <thead>\n",
       "    <tr style=\"text-align: right;\">\n",
       "      <th></th>\n",
       "      <th>title</th>\n",
       "      <th>selftext</th>\n",
       "      <th>subreddit</th>\n",
       "      <th>comments</th>\n",
       "      <th>created_utc</th>\n",
       "      <th>top_comment</th>\n",
       "      <th>comment_upvotes</th>\n",
       "      <th>text</th>\n",
       "      <th>index</th>\n",
       "    </tr>\n",
       "  </thead>\n",
       "  <tbody>\n",
       "    <tr>\n",
       "      <th>0</th>\n",
       "      <td>What is something you can say \"I'm with the bo...</td>\n",
       "      <td>Scanning QR codes for a restaurant/bar menu is...</td>\n",
       "      <td>ask</td>\n",
       "      <td>&lt;praw.models.comment_forest.CommentForest obje...</td>\n",
       "      <td>1.688044e+09</td>\n",
       "      <td>Any business which requires you to use an app....</td>\n",
       "      <td>3592</td>\n",
       "      <td>I'm with the boomers on this one - investing i...</td>\n",
       "      <td>0</td>\n",
       "    </tr>\n",
       "    <tr>\n",
       "      <th>2</th>\n",
       "      <td>My dad is just under 50 and he constantly says...</td>\n",
       "      <td>He says there would only be mabye 1 or 2 big k...</td>\n",
       "      <td>ask</td>\n",
       "      <td>&lt;praw.models.comment_forest.CommentForest obje...</td>\n",
       "      <td>1.681396e+09</td>\n",
       "      <td>It's absolutely true. Resturants near me have ...</td>\n",
       "      <td>3048</td>\n",
       "      <td>It's possible that this is true, as childhood ...</td>\n",
       "      <td>2</td>\n",
       "    </tr>\n",
       "    <tr>\n",
       "      <th>3</th>\n",
       "      <td>Am I the only person who feels so so bullied b...</td>\n",
       "      <td>I know that servers work hard for their tips a...</td>\n",
       "      <td>ask</td>\n",
       "      <td>&lt;praw.models.comment_forest.CommentForest obje...</td>\n",
       "      <td>1.684213e+09</td>\n",
       "      <td>I think after demanding tips from self checkou...</td>\n",
       "      <td>2041</td>\n",
       "      <td>No, you are not alone. Many people feel that w...</td>\n",
       "      <td>3</td>\n",
       "    </tr>\n",
       "  </tbody>\n",
       "</table>\n",
       "</div>"
      ],
      "text/plain": [
       "                                               title  \\\n",
       "0  What is something you can say \"I'm with the bo...   \n",
       "2  My dad is just under 50 and he constantly says...   \n",
       "3  Am I the only person who feels so so bullied b...   \n",
       "\n",
       "                                            selftext subreddit  \\\n",
       "0  Scanning QR codes for a restaurant/bar menu is...       ask   \n",
       "2  He says there would only be mabye 1 or 2 big k...       ask   \n",
       "3  I know that servers work hard for their tips a...       ask   \n",
       "\n",
       "                                            comments   created_utc  \\\n",
       "0  <praw.models.comment_forest.CommentForest obje...  1.688044e+09   \n",
       "2  <praw.models.comment_forest.CommentForest obje...  1.681396e+09   \n",
       "3  <praw.models.comment_forest.CommentForest obje...  1.684213e+09   \n",
       "\n",
       "                                         top_comment  comment_upvotes  \\\n",
       "0  Any business which requires you to use an app....             3592   \n",
       "2  It's absolutely true. Resturants near me have ...             3048   \n",
       "3  I think after demanding tips from self checkou...             2041   \n",
       "\n",
       "                                                text  index  \n",
       "0  I'm with the boomers on this one - investing i...      0  \n",
       "2  It's possible that this is true, as childhood ...      2  \n",
       "3  No, you are not alone. Many people feel that w...      3  "
      ]
     },
     "execution_count": 30,
     "metadata": {},
     "output_type": "execute_result"
    }
   ],
   "source": [
    "merged_df.head(3)"
   ]
  },
  {
   "cell_type": "code",
   "execution_count": 11,
   "id": "a174d948-2f63-4605-ab33-642c3463e516",
   "metadata": {},
   "outputs": [
    {
     "data": {
      "text/plain": [
       "False    4326\n",
       "True      579\n",
       "Name: top_comment, dtype: int64"
      ]
     },
     "execution_count": 11,
     "metadata": {},
     "output_type": "execute_result"
    }
   ],
   "source": [
    "merged_df['top_comment'].str.contains('\\\\_').value_counts()"
   ]
  },
  {
   "cell_type": "code",
   "execution_count": 12,
   "id": "247d0309-81cf-4b48-a338-f844df76be4c",
   "metadata": {},
   "outputs": [
    {
     "name": "stderr",
     "output_type": "stream",
     "text": [
      "C:\\Users\\andre\\AppData\\Local\\Temp\\ipykernel_22316\\3126535889.py:1: FutureWarning: The default value of regex will change from True to False in a future version.\n",
      "  merged_df['top_comment'] = merged_df['top_comment'].str.replace('\\\\_', '')\n"
     ]
    }
   ],
   "source": [
    "merged_df['top_comment'] = merged_df['top_comment'].str.replace('\\\\_', '')"
   ]
  },
  {
   "cell_type": "code",
   "execution_count": 94,
   "id": "5d46eb28-5c2e-418c-bc95-b4c7df5c03fb",
   "metadata": {
    "tags": []
   },
   "outputs": [
    {
     "data": {
      "text/plain": [
       "(2674, 9)"
      ]
     },
     "execution_count": 94,
     "metadata": {},
     "output_type": "execute_result"
    }
   ],
   "source": [
    "merged_df[merged_df['top_comment'].str.contains(\"\\'\") == True].shape                                                                     "
   ]
  },
  {
   "cell_type": "code",
   "execution_count": 95,
   "id": "30dbcbbe-4bb4-4374-bd9e-0101314cf336",
   "metadata": {
    "collapsed": true,
    "jupyter": {
     "outputs_hidden": true
    },
    "tags": []
   },
   "outputs": [
    {
     "data": {
      "text/plain": [
       "0       Any business which requires you to use an app....\n",
       "2       Its absolutely true. Resturants near me have p...\n",
       "3       I think after demanding tips from self checkou...\n",
       "4       You have money. You’re sexually experienced. Y...\n",
       "5       I think its because this is sort of r/darwinaw...\n",
       "                              ...                        \n",
       "5245    Cornstarch in the batter and using something f...\n",
       "5246    If it tastes smokey, its Lox/Smoked Salmon.If ...\n",
       "5247    In my experience, chefs with diverse and funda...\n",
       "5248    Muenster gets pretty stretchy. I use it in mac...\n",
       "5249      YAYYYY!!! HTCE was the first cookbook I bought!\n",
       "Name: top_comment, Length: 4906, dtype: object"
      ]
     },
     "execution_count": 95,
     "metadata": {},
     "output_type": "execute_result"
    }
   ],
   "source": [
    "# merged_df['top_comment'].str.replace('\\'', '')"
   ]
  },
  {
   "cell_type": "code",
   "execution_count": 96,
   "id": "80e3c505-16c6-4017-bf9d-fe3ee3f19d5d",
   "metadata": {},
   "outputs": [
    {
     "data": {
      "text/plain": [
       "False    4891\n",
       "True        6\n",
       "Name: text, dtype: int64"
      ]
     },
     "execution_count": 96,
     "metadata": {},
     "output_type": "execute_result"
    }
   ],
   "source": [
    "merged_df['text'].str.contains('\\\\_').value_counts()"
   ]
  },
  {
   "cell_type": "code",
   "execution_count": 29,
   "id": "cb04fee6-ba97-4688-aa28-72a63990f601",
   "metadata": {},
   "outputs": [
    {
     "data": {
      "text/plain": [
       "title  selftext  subreddit  comments  created_utc  top_comment  comment_upvotes  text   index\n",
       "False  False     False      False     False        False        False            False  False    3208\n",
       "       True      False      False     False        False        False            False  False    1688\n",
       "       False     False      False     False        False        False            True   False       7\n",
       "       True      False      False     False        False        False            True   False       2\n",
       "       False     False      False     False        True         False            False  False       1\n",
       "dtype: int64"
      ]
     },
     "execution_count": 29,
     "metadata": {},
     "output_type": "execute_result"
    }
   ],
   "source": [
    "merged_df.isnull().value_counts()"
   ]
  },
  {
   "cell_type": "code",
   "execution_count": 13,
   "id": "bbb86b02-db5e-4c7e-8a77-5d2ced8d952a",
   "metadata": {},
   "outputs": [],
   "source": [
    "temp_dav_df = merged_df.loc[:, ['title', 'text']]"
   ]
  },
  {
   "cell_type": "code",
   "execution_count": 14,
   "id": "265f3b66-8114-40c8-8093-e335eb3b95a5",
   "metadata": {},
   "outputs": [],
   "source": [
    "temp_dav_df['ai_generated'] = 1"
   ]
  },
  {
   "cell_type": "code",
   "execution_count": 26,
   "id": "e27652fc-a225-4ddf-957e-a521078bf271",
   "metadata": {
    "tags": []
   },
   "outputs": [
    {
     "data": {
      "text/plain": [
       "title  text   ai_generated\n",
       "False  False  False           4897\n",
       "       True   False              9\n",
       "dtype: int64"
      ]
     },
     "execution_count": 26,
     "metadata": {},
     "output_type": "execute_result"
    }
   ],
   "source": [
    "temp_dav_df.isnull().value_counts()"
   ]
  },
  {
   "cell_type": "code",
   "execution_count": 15,
   "id": "35841317-6fe3-4c1a-be25-a648306aa8c4",
   "metadata": {},
   "outputs": [],
   "source": [
    "temp_dav_df = temp_dav_df.reset_index(drop=True)  \n",
    "\n",
    "\n",
    "temp_dav_df.index = range(5250, 5250 + len(temp_dav_df))"
   ]
  },
  {
   "cell_type": "code",
   "execution_count": null,
   "id": "d0b85564-8be1-4a78-99e9-97c9c93b12bb",
   "metadata": {},
   "outputs": [],
   "source": []
  },
  {
   "cell_type": "code",
   "execution_count": 16,
   "id": "64342d5f-af60-4850-8809-b4b5d94ad55d",
   "metadata": {},
   "outputs": [],
   "source": [
    "temp_red_df = merged_df.loc[:, ['title', 'top_comment']]"
   ]
  },
  {
   "cell_type": "code",
   "execution_count": 17,
   "id": "62dc072b-c57c-44d7-8901-8580e68586cf",
   "metadata": {},
   "outputs": [],
   "source": [
    "temp_red_df['ai_generated'] = 0"
   ]
  },
  {
   "cell_type": "code",
   "execution_count": 25,
   "id": "9b0c3c86-02b8-4b7b-9e7d-152ef6884336",
   "metadata": {},
   "outputs": [
    {
     "data": {
      "text/plain": [
       "title  text   ai_generated\n",
       "False  False  False           4905\n",
       "       True   False              1\n",
       "dtype: int64"
      ]
     },
     "execution_count": 25,
     "metadata": {},
     "output_type": "execute_result"
    }
   ],
   "source": [
    "temp_red_df.isnull().value_counts()"
   ]
  },
  {
   "cell_type": "code",
   "execution_count": 18,
   "id": "5466a152-b258-4b17-b688-88ec04ba8490",
   "metadata": {},
   "outputs": [],
   "source": [
    "temp_red_df.rename(columns = {'top_comment':'text'}, inplace=True)\n"
   ]
  },
  {
   "cell_type": "code",
   "execution_count": 19,
   "id": "34f0985b-e252-4aa9-ba99-3035b6ae4e97",
   "metadata": {},
   "outputs": [],
   "source": [
    "final_merged_df = pd.concat([temp_red_df, temp_dav_df])"
   ]
  },
  {
   "cell_type": "code",
   "execution_count": 32,
   "id": "cd821016-bc66-49ab-b176-a2533f71a685",
   "metadata": {},
   "outputs": [],
   "source": [
    "final_merged_df.dropna(inplace=True)"
   ]
  },
  {
   "cell_type": "code",
   "execution_count": 33,
   "id": "9290f1d5-af88-4e62-a250-3f9bf08dba73",
   "metadata": {},
   "outputs": [],
   "source": [
    "final_merged_df.to_csv('data/red_gpt_resps.csv')"
   ]
  },
  {
   "cell_type": "code",
   "execution_count": null,
   "id": "93813090-99bd-466f-86fc-f907a5279d21",
   "metadata": {},
   "outputs": [],
   "source": []
  }
 ],
 "metadata": {
  "kernelspec": {
   "display_name": "Python 3",
   "language": "python",
   "name": "python3"
  },
  "language_info": {
   "codemirror_mode": {
    "name": "ipython",
    "version": 3
   },
   "file_extension": ".py",
   "mimetype": "text/x-python",
   "name": "python",
   "nbconvert_exporter": "python",
   "pygments_lexer": "ipython3",
   "version": "3.9.18"
  }
 },
 "nbformat": 4,
 "nbformat_minor": 5
}
